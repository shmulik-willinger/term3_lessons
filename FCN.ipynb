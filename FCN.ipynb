{
 "cells": [
  {
   "cell_type": "code",
   "execution_count": 2,
   "metadata": {},
   "outputs": [
    {
     "name": "stdout",
     "output_type": "stream",
     "text": [
      "Input Shape: (1, 4, 4, 3)\n",
      "Output Shape: (1, 8, 8, 3)\n"
     ]
    }
   ],
   "source": [
    "import tensorflow as tf\n",
    "import numpy as np\n",
    "\n",
    "\n",
    "def upsample(x):\n",
    "    \"\"\"\n",
    "    Apply a two times upsample on x and return the result.\n",
    "    :x: 4-Rank Tensor\n",
    "    :return: TF Operation\n",
    "    \"\"\"\n",
    "    # TODO: Use `tf.layers.conv2d_transpose`\n",
    "    unsample = tf.contrib.layers.conv2d_transpose(x,\n",
    "    3,\n",
    "    (2,2),\n",
    "    stride=(2,2),\n",
    "    padding='SAME')\n",
    "    return unsample\n",
    "\n",
    "\n",
    "x = tf.constant(np.random.randn(1, 4, 4, 3), dtype=tf.float32)\n",
    "conv = upsample(x)\n",
    "\n",
    "with tf.Session() as sess:\n",
    "    sess.run(tf.global_variables_initializer())\n",
    "    result = sess.run(conv)\n",
    "\n",
    "    print('Input Shape: {}'.format(x.get_shape()))\n",
    "    print('Output Shape: {}'.format(result.shape))\n"
   ]
  }
 ],
 "metadata": {
  "kernelspec": {
   "display_name": "Python 3",
   "language": "python",
   "name": "python3"
  },
  "language_info": {
   "codemirror_mode": {
    "name": "ipython",
    "version": 3
   },
   "file_extension": ".py",
   "mimetype": "text/x-python",
   "name": "python",
   "nbconvert_exporter": "python",
   "pygments_lexer": "ipython3",
   "version": "3.6.3"
  }
 },
 "nbformat": 4,
 "nbformat_minor": 2
}
